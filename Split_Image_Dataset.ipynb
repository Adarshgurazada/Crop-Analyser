{
  "nbformat": 4,
  "nbformat_minor": 0,
  "metadata": {
    "colab": {
      "provenance": []
    },
    "kernelspec": {
      "name": "python3",
      "display_name": "Python 3"
    },
    "language_info": {
      "name": "python"
    }
  },
  "cells": [
    {
      "cell_type": "code",
      "source": [
        "pip install split-folders[full]"
      ],
      "metadata": {
        "colab": {
          "base_uri": "https://localhost:8080/"
        },
        "id": "V-hRJVlfFpW_",
        "outputId": "cb1680b9-b897-438c-c4f1-9fa22cbc4a6b"
      },
      "execution_count": null,
      "outputs": [
        {
          "output_type": "stream",
          "name": "stdout",
          "text": [
            "Collecting split-folders[full]\n",
            "  Downloading split_folders-0.5.1-py3-none-any.whl (8.4 kB)\n",
            "Requirement already satisfied: tqdm in /usr/local/lib/python3.10/dist-packages (from split-folders[full]) (4.66.1)\n",
            "Installing collected packages: split-folders\n",
            "Successfully installed split-folders-0.5.1\n"
          ]
        }
      ]
    },
    {
      "cell_type": "code",
      "execution_count": null,
      "metadata": {
        "id": "VXCiifX5FHJ7"
      },
      "outputs": [],
      "source": [
        "import splitfolders"
      ]
    },
    {
      "cell_type": "code",
      "source": [
        "from google.colab import drive\n",
        "drive.mount('/content/drive/')"
      ],
      "metadata": {
        "colab": {
          "base_uri": "https://localhost:8080/"
        },
        "id": "8wslMIiGFycA",
        "outputId": "2b8203f5-c852-4ff4-cfd0-432052ac4e4e"
      },
      "execution_count": null,
      "outputs": [
        {
          "output_type": "stream",
          "name": "stdout",
          "text": [
            "Mounted at /content/drive/\n"
          ]
        }
      ]
    },
    {
      "cell_type": "code",
      "source": [
        "stage1_input= '/content/drive/MyDrive/Stage1'\n",
        "stage1_output= '/content/drive/MyDrive/Stage1_splitted'"
      ],
      "metadata": {
        "id": "ZsPR1FuuFZBL"
      },
      "execution_count": null,
      "outputs": []
    },
    {
      "cell_type": "code",
      "source": [
        "splitfolders.ratio(stage1_input, output=stage1_output,seed=1337, ratio=(.8, .1, .1), group_prefix=None, move=False)"
      ],
      "metadata": {
        "colab": {
          "base_uri": "https://localhost:8080/"
        },
        "id": "ATj5js3BGM15",
        "outputId": "559254a3-0d95-4254-9f83-87b53d7b6b03"
      },
      "execution_count": null,
      "outputs": [
        {
          "output_type": "stream",
          "name": "stderr",
          "text": [
            "\n",
            "Copying files: 0 files [00:00, ? files/s]\u001b[A\n",
            "Copying files: 4 files [00:00, 34.24 files/s]\u001b[A\n",
            "Copying files: 9 files [00:00, 41.15 files/s]\u001b[A\n",
            "Copying files: 14 files [00:00, 43.56 files/s]\u001b[A\n",
            "Copying files: 19 files [00:00, 41.68 files/s]\u001b[A\n",
            "Copying files: 24 files [00:00, 44.00 files/s]\u001b[A\n",
            "Copying files: 29 files [00:00, 42.41 files/s]\u001b[A\n",
            "Copying files: 34 files [00:00, 42.71 files/s]\u001b[A\n",
            "Copying files: 39 files [00:00, 38.55 files/s]\u001b[A\n",
            "Copying files: 43 files [00:01, 29.83 files/s]\u001b[A\n",
            "Copying files: 47 files [00:01, 17.79 files/s]\u001b[A\n",
            "Copying files: 50 files [00:01, 15.02 files/s]\u001b[A\n",
            "Copying files: 53 files [00:02,  8.66 files/s]\u001b[A\n",
            "Copying files: 55 files [00:03,  8.43 files/s]\u001b[A\n",
            "Copying files: 57 files [00:03,  8.28 files/s]\u001b[A\n",
            "Copying files: 59 files [00:03,  8.97 files/s]\u001b[A\n",
            "Copying files: 61 files [00:03,  8.86 files/s]\u001b[A\n",
            "Copying files: 63 files [00:03,  9.41 files/s]\u001b[A\n",
            "Copying files: 65 files [00:04,  8.13 files/s]\u001b[A\n",
            "Copying files: 66 files [00:04,  5.92 files/s]\u001b[A\n",
            "Copying files: 67 files [00:04,  6.15 files/s]\u001b[A\n",
            "Copying files: 69 files [00:04,  7.27 files/s]\u001b[A\n",
            "Copying files: 71 files [00:05,  8.35 files/s]\u001b[A\n",
            "Copying files: 73 files [00:05,  9.59 files/s]\u001b[A\n",
            "Copying files: 75 files [00:05,  7.39 files/s]\u001b[A\n",
            "Copying files: 77 files [00:05,  8.47 files/s]\u001b[A\n",
            "Copying files: 79 files [00:05,  9.77 files/s]\u001b[A\n",
            "Copying files: 81 files [00:06, 10.30 files/s]\u001b[A\n",
            "Copying files: 83 files [00:06, 10.55 files/s]\u001b[A\n",
            "Copying files: 85 files [00:06, 10.17 files/s]\u001b[A\n",
            "Copying files: 87 files [00:06,  8.45 files/s]\u001b[A\n",
            "Copying files: 88 files [00:06,  7.54 files/s]\u001b[A\n",
            "Copying files: 90 files [00:07,  9.51 files/s]\u001b[A\n",
            "Copying files: 92 files [00:07, 10.03 files/s]\u001b[A\n",
            "Copying files: 94 files [00:07, 11.85 files/s]\u001b[A\n",
            "Copying files: 96 files [00:07, 11.64 files/s]\u001b[A\n",
            "Copying files: 98 files [00:07, 12.18 files/s]\u001b[A\n",
            "Copying files: 100 files [00:07, 12.70 files/s]\n"
          ]
        }
      ]
    },
    {
      "cell_type": "code",
      "source": [
        "stage2_input= '/content/drive/MyDrive/Stage2'\n",
        "stage2_output= '/content/drive/MyDrive/Stage2_splitted'"
      ],
      "metadata": {
        "id": "vtgIU0uwI5Cs"
      },
      "execution_count": null,
      "outputs": []
    },
    {
      "cell_type": "code",
      "source": [
        "splitfolders.ratio(stage2_input, output=stage2_output,seed=1337, ratio=(.8, .1, .1), group_prefix=None, move=False)"
      ],
      "metadata": {
        "colab": {
          "base_uri": "https://localhost:8080/"
        },
        "id": "uH7eOZSdI5rV",
        "outputId": "eba99831-804b-4a77-efad-a5c8700a1f6f"
      },
      "execution_count": null,
      "outputs": [
        {
          "output_type": "stream",
          "name": "stderr",
          "text": [
            "Copying files: 140 files [01:20,  1.73 files/s]\n"
          ]
        }
      ]
    },
    {
      "cell_type": "code",
      "source": [
        "stage3_input= '/content/drive/MyDrive/Stage3'\n",
        "stage3_output= '/content/drive/MyDrive/Stage3_splitted'"
      ],
      "metadata": {
        "id": "LqWnfKOxJEaa"
      },
      "execution_count": null,
      "outputs": []
    },
    {
      "cell_type": "code",
      "source": [
        "splitfolders.ratio(stage3_input, output=stage3_output,seed=1337, ratio=(.8, .1, .1), group_prefix=None, move=False)"
      ],
      "metadata": {
        "colab": {
          "base_uri": "https://localhost:8080/"
        },
        "id": "d_LW-qlvJIZA",
        "outputId": "fc6330a5-f690-44d7-dc17-5efded8091fb"
      },
      "execution_count": null,
      "outputs": [
        {
          "output_type": "stream",
          "name": "stderr",
          "text": [
            "\n",
            "Copying files: 0 files [00:00, ? files/s]\u001b[A\n",
            "Copying files: 1 files [00:00,  5.19 files/s]\u001b[A\n",
            "Copying files: 2 files [00:00,  4.58 files/s]\u001b[A\n",
            "Copying files: 3 files [00:00,  4.12 files/s]\u001b[A\n",
            "Copying files: 4 files [00:01,  3.77 files/s]\u001b[A\n",
            "Copying files: 5 files [00:01,  3.90 files/s]\u001b[A\n",
            "Copying files: 6 files [00:01,  3.77 files/s]\u001b[A\n",
            "Copying files: 7 files [00:01,  3.70 files/s]\u001b[A\n",
            "Copying files: 8 files [00:02,  3.20 files/s]\u001b[A\n",
            "Copying files: 9 files [00:02,  3.09 files/s]\u001b[A\n",
            "Copying files: 10 files [00:02,  2.99 files/s]\u001b[A\n",
            "Copying files: 11 files [00:03,  3.05 files/s]\u001b[A\n",
            "Copying files: 12 files [00:03,  3.13 files/s]\u001b[A\n",
            "Copying files: 13 files [00:03,  3.57 files/s]\u001b[A\n",
            "Copying files: 14 files [00:03,  3.71 files/s]\u001b[A\n",
            "Copying files: 15 files [00:04,  4.04 files/s]\u001b[A\n",
            "Copying files: 16 files [00:04,  4.15 files/s]\u001b[A\n",
            "Copying files: 17 files [00:04,  4.29 files/s]\u001b[A\n",
            "Copying files: 18 files [00:04,  4.55 files/s]\u001b[A\n",
            "Copying files: 19 files [00:04,  4.72 files/s]\u001b[A\n",
            "Copying files: 20 files [00:05,  4.59 files/s]\u001b[A\n",
            "Copying files: 21 files [00:05,  4.50 files/s]\u001b[A\n",
            "Copying files: 22 files [00:05,  4.35 files/s]\u001b[A\n",
            "Copying files: 23 files [00:06,  3.93 files/s]\u001b[A\n",
            "Copying files: 24 files [00:06,  3.97 files/s]\u001b[A\n",
            "Copying files: 25 files [00:06,  3.76 files/s]\u001b[A\n",
            "Copying files: 26 files [00:06,  3.93 files/s]\u001b[A\n",
            "Copying files: 27 files [00:07,  3.13 files/s]\u001b[A\n",
            "Copying files: 28 files [00:07,  3.36 files/s]\u001b[A\n",
            "Copying files: 29 files [00:07,  3.52 files/s]\u001b[A\n",
            "Copying files: 30 files [00:08,  2.91 files/s]\u001b[A\n",
            "Copying files: 31 files [00:08,  2.93 files/s]\u001b[A\n",
            "Copying files: 32 files [00:08,  3.27 files/s]\u001b[A\n",
            "Copying files: 33 files [00:09,  2.32 files/s]\u001b[A\n",
            "Copying files: 34 files [00:09,  2.80 files/s]\u001b[A\n",
            "Copying files: 35 files [00:09,  3.22 files/s]\u001b[A\n",
            "Copying files: 36 files [00:10,  3.59 files/s]\u001b[A\n",
            "Copying files: 37 files [00:10,  3.87 files/s]\u001b[A\n",
            "Copying files: 38 files [00:10,  4.13 files/s]\u001b[A\n",
            "Copying files: 39 files [00:10,  3.91 files/s]\u001b[A\n",
            "Copying files: 40 files [00:10,  4.25 files/s]\u001b[A\n",
            "Copying files: 41 files [00:11,  4.29 files/s]\u001b[A\n",
            "Copying files: 42 files [00:11,  4.54 files/s]\u001b[A\n",
            "Copying files: 43 files [00:11,  4.48 files/s]\u001b[A\n",
            "Copying files: 44 files [00:11,  4.66 files/s]\u001b[A\n",
            "Copying files: 45 files [00:12,  4.97 files/s]\u001b[A\n",
            "Copying files: 46 files [00:12,  5.23 files/s]\u001b[A\n",
            "Copying files: 47 files [00:12,  5.12 files/s]\u001b[A\n",
            "Copying files: 48 files [00:12,  5.45 files/s]\u001b[A\n",
            "Copying files: 49 files [00:12,  5.46 files/s]\u001b[A\n",
            "Copying files: 50 files [00:13,  4.56 files/s]\u001b[A\n",
            "Copying files: 51 files [00:13,  4.69 files/s]\u001b[A\n",
            "Copying files: 52 files [00:13,  4.96 files/s]\u001b[A\n",
            "Copying files: 53 files [00:13,  5.16 files/s]\u001b[A\n",
            "Copying files: 54 files [00:13,  5.00 files/s]\u001b[A\n",
            "Copying files: 55 files [00:13,  4.98 files/s]\u001b[A\n",
            "Copying files: 56 files [00:14,  5.11 files/s]\u001b[A\n",
            "Copying files: 57 files [00:14,  5.04 files/s]\u001b[A\n",
            "Copying files: 58 files [00:14,  5.22 files/s]\u001b[A\n",
            "Copying files: 59 files [00:14,  5.44 files/s]\u001b[A\n",
            "Copying files: 60 files [00:14,  5.61 files/s]\u001b[A\n",
            "Copying files: 61 files [00:15,  5.62 files/s]\u001b[A\n",
            "Copying files: 62 files [00:15,  4.95 files/s]\u001b[A\n",
            "Copying files: 63 files [00:15,  4.60 files/s]\u001b[A\n",
            "Copying files: 64 files [00:15,  4.50 files/s]\u001b[A\n",
            "Copying files: 65 files [00:16,  4.59 files/s]\u001b[A\n",
            "Copying files: 66 files [00:16,  4.32 files/s]\u001b[A\n",
            "Copying files: 67 files [00:16,  4.14 files/s]\u001b[A\n",
            "Copying files: 68 files [00:16,  3.89 files/s]\u001b[A\n",
            "Copying files: 69 files [00:17,  4.08 files/s]\u001b[A\n",
            "Copying files: 70 files [00:17,  4.00 files/s]\n"
          ]
        }
      ]
    }
  ]
}